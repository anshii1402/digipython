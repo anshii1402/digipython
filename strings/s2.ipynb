{
 "cells": [
  {
   "cell_type": "code",
   "execution_count": 17,
   "metadata": {},
   "outputs": [],
   "source": [
    "msg = '''If you already use TTS and the Speech Services by Google engine, there is nothing to do -- everything will happen\n",
    " behind the scenes as your users will have automatically downloaded the latest update. We have seen a significant side\n",
    "  by side quality increase with this change, particularly in respect to clarity and naturalness,\" the platform said in\n",
    "   its developers page.'''"
   ]
  },
  {
   "cell_type": "code",
   "execution_count": 18,
   "metadata": {},
   "outputs": [
    {
     "name": "stdout",
     "output_type": "stream",
     "text": [
      "If you already use TTS and the Speech Services by Google engine, there is nothing to do -- everything will happen\n",
      " behind the scenes as your users will have automatically downloaded the latest update. We have seen a significant side\n",
      "  by side quality increase with this change, particularly in respect to clarity and naturalness,\" the platform said in\n",
      "   its developers page.\n"
     ]
    }
   ],
   "source": [
    "print(msg)"
   ]
  },
  {
   "cell_type": "code",
   "execution_count": 19,
   "metadata": {},
   "outputs": [
    {
     "name": "stdout",
     "output_type": "stream",
     "text": [
      "name-> Amar \n",
      "name->  Akbar \n",
      "name->  Anthony \n",
      "name->  Vijay \n",
      "name->  Deenath\n"
     ]
    }
   ],
   "source": [
    "names = \"Amar , Akbar , Anthony , Vijay , Deenath\"\n",
    "name_list = names.split(\",\")\n",
    "\n",
    "for nm in name_list:\n",
    "\n",
    "    print('name->',nm)"
   ]
  },
  {
   "cell_type": "code",
   "execution_count": 20,
   "metadata": {},
   "outputs": [
    {
     "name": "stdout",
     "output_type": "stream",
     "text": [
      "[]\n"
     ]
    }
   ],
   "source": [
    "items = input(\"Enter 5 items seperated by space\").split()\n",
    "print(items)"
   ]
  },
  {
   "cell_type": "code",
   "execution_count": 21,
   "metadata": {},
   "outputs": [
    {
     "name": "stdout",
     "output_type": "stream",
     "text": [
      "Python -m textblob\n"
     ]
    }
   ],
   "source": [
    "data_list = ['Python','-m','textblob']\n",
    "result = \" \".join(data_list)\n",
    "print(result)"
   ]
  },
  {
   "cell_type": "code",
   "execution_count": 22,
   "metadata": {},
   "outputs": [
    {
     "name": "stdout",
     "output_type": "stream",
     "text": [
      "IF YOU ALREADY USE TTS AND THE SPEECH SERVICES BY GOOGLE ENGINE, THERE IS NOTHING TO DO -- EVERYTHING WILL HAPPEN\n",
      " BEHIND THE SCENES AS YOUR USERS WILL HAVE AUTOMATICALLY DOWNLOADED THE LATEST UPDATE. WE HAVE SEEN A SIGNIFICANT SIDE\n",
      "  BY SIDE QUALITY INCREASE WITH THIS CHANGE, PARTICULARLY IN RESPECT TO CLARITY AND NATURALNESS,\" THE PLATFORM SAID IN\n",
      "   ITS DEVELOPERS PAGE.\n"
     ]
    }
   ],
   "source": [
    "print(msg.upper())"
   ]
  },
  {
   "cell_type": "code",
   "execution_count": 23,
   "metadata": {},
   "outputs": [
    {
     "name": "stdout",
     "output_type": "stream",
     "text": [
      "IF YOU ALREADY USE TTS AND THE SPEECH SERVICES BY GOOGLE ENGINE, THERE IS NOTHING TO DO -- EVERYTHING WILL HAPPEN\n",
      " BEHIND THE SCENES AS YOUR USERS WILL HAVE AUTOMATICALLY DOWNLOADED THE LATEST UPDATE. WE HAVE SEEN A SIGNIFICANT SIDE\n",
      "  BY SIDE QUALITY INCREASE WITH THIS CHANGE, PARTICULARLY IN RESPECT TO CLARITY AND NATURALNESS,\" THE PLATFORM SAID IN\n",
      "   ITS DEVELOPERS PAGE.\n"
     ]
    }
   ],
   "source": [
    "result = msg.upper()\n",
    "print(result)"
   ]
  },
  {
   "cell_type": "code",
   "execution_count": 24,
   "metadata": {},
   "outputs": [
    {
     "name": "stdout",
     "output_type": "stream",
     "text": [
      "If You Already Use Tts And The Speech Services By Google Engine, There Is Nothing To Do -- Everything Will Happen\n",
      " Behind The Scenes As Your Users Will Have Automatically Downloaded The Latest Update. We Have Seen A Significant Side\n",
      "  By Side Quality Increase With This Change, Particularly In Respect To Clarity And Naturalness,\" The Platform Said In\n",
      "   Its Developers Page.\n"
     ]
    }
   ],
   "source": [
    "result = msg.title()\n",
    "print(result)\n"
   ]
  },
  {
   "cell_type": "code",
   "execution_count": 25,
   "metadata": {},
   "outputs": [
    {
     "name": "stdout",
     "output_type": "stream",
     "text": [
      "If you already use tts and the speech services by google engine, there is nothing to do -- everything will happen\n",
      " behind the scenes as your users will have automatically downloaded the latest update. we have seen a significant side\n",
      "  by side quality increase with this change, particularly in respect to clarity and naturalness,\" the platform said in\n",
      "   its developers page.\n"
     ]
    }
   ],
   "source": [
    "result = msg.capitalize()\n",
    "print(result)\n"
   ]
  },
  {
   "cell_type": "code",
   "execution_count": 26,
   "metadata": {},
   "outputs": [
    {
     "name": "stdout",
     "output_type": "stream",
     "text": [
      "if you already use tts and the speech services by google engine, there is nothing to do -- everything will happen\n",
      " behind the scenes as your users will have automatically downloaded the latest update. we have seen a significant side\n",
      "  by side quality increase with this change, particularly in respect to clarity and naturalness,\" the platform said in\n",
      "   its developers page.\n"
     ]
    }
   ],
   "source": [
    "result = msg.lower()\n",
    "print(result)"
   ]
  },
  {
   "cell_type": "code",
   "execution_count": 28,
   "metadata": {},
   "outputs": [
    {
     "name": "stdout",
     "output_type": "stream",
     "text": [
      "iF YOU ALREADY USE tts AND THE sPEECH sERVICES BY gOOGLE ENGINE, THERE IS NOTHING TO DO -- EVERYTHING WILL HAPPEN\n",
      " BEHIND THE SCENES AS YOUR USERS WILL HAVE AUTOMATICALLY DOWNLOADED THE LATEST UPDATE. wE HAVE SEEN A SIGNIFICANT SIDE\n",
      "  BY SIDE QUALITY INCREASE WITH THIS CHANGE, PARTICULARLY IN RESPECT TO CLARITY AND NATURALNESS,\" THE PLATFORM SAID IN\n",
      "   ITS DEVELOPERS PAGE.\n"
     ]
    }
   ],
   "source": [
    "result = msg.swapcase()\n",
    "print(result)"
   ]
  },
  {
   "cell_type": "code",
   "execution_count": 31,
   "metadata": {},
   "outputs": [
    {
     "name": "stdout",
     "output_type": "stream",
     "text": [
      "iF yOU aLRcADY uSc tTS aND tHc sPccCH scRVICcS bY gOOGLc eNGINc, tHcRc iS nOTHING tO dO -- eVcRYTHING wILL hAPPcN\n",
      " bcHIND tHc sCcNcS aS yOUR uScRS wILL hAVc aUTOMATICALLY dOWNLOADcD tHc lATcST uPDATc. wc hAVc sccN a sIGNIFICANT sIDc\n",
      "  bY sIDc qUALITY iNCRcASc wITH tHIS cHANGc, pARTICULARLY iN rcSPcCT tO cLARITY aND nATURALNcSS,\" tHc pLATFORM sAID iN\n",
      "   iTS dcVcLOPcRS pAGc.\n"
     ]
    }
   ],
   "source": [
    "print(msg.title().swapcase().replace('E', 'c'))"
   ]
  },
  {
   "cell_type": "code",
   "execution_count": null,
   "metadata": {},
   "outputs": [],
   "source": [
    "                                                                 "
   ]
  }
 ],
 "metadata": {
  "kernelspec": {
   "display_name": "base",
   "language": "python",
   "name": "python3"
  },
  "language_info": {
   "codemirror_mode": {
    "name": "ipython",
    "version": 3
   },
   "file_extension": ".py",
   "mimetype": "text/x-python",
   "name": "python",
   "nbconvert_exporter": "python",
   "pygments_lexer": "ipython3",
   "version": "3.9.12 (main, Apr  4 2022, 05:22:27) [MSC v.1916 64 bit (AMD64)]"
  },
  "orig_nbformat": 4,
  "vscode": {
   "interpreter": {
    "hash": "8c81b8bb464934e8a8c5bf19021b42779812100c5cd134faff9c48de62c18ad6"
   }
  }
 },
 "nbformat": 4,
 "nbformat_minor": 2
}
