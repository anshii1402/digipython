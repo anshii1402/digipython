{
 "cells": [
  {
   "cell_type": "code",
   "execution_count": 2,
   "metadata": {},
   "outputs": [],
   "source": [
    "a=10\n",
    "b=3"
   ]
  },
  {
   "cell_type": "code",
   "execution_count": 4,
   "metadata": {},
   "outputs": [
    {
     "name": "stdout",
     "output_type": "stream",
     "text": [
      "Okay\n",
      "I understand\n"
     ]
    }
   ],
   "source": [
    "if a > 5:\n",
    "    print(\"Okay\")\n",
    "    print('I understand')"
   ]
  },
  {
   "cell_type": "code",
   "execution_count": 6,
   "metadata": {},
   "outputs": [],
   "source": [
    "if a < 5:\n",
    "    print('A is less than 5')\n",
    "    print('Awesome')"
   ]
  },
  {
   "cell_type": "code",
   "execution_count": 13,
   "metadata": {},
   "outputs": [
    {
     "name": "stdout",
     "output_type": "stream",
     "text": [
      "The value of A: 71\n"
     ]
    }
   ],
   "source": [
    "a = int(input('Enter a number'))\n",
    "if a > 50:\n",
    "    a+=10\n",
    "print(f\"The value of A: {a}\")"
   ]
  },
  {
   "cell_type": "code",
   "execution_count": 16,
   "metadata": {},
   "outputs": [
    {
     "name": "stdout",
     "output_type": "stream",
     "text": [
      "Nice\n"
     ]
    }
   ],
   "source": [
    "if a > b:\n",
    "    print('Nice')\n",
    "else:\n",
    "   print('Bad') "
   ]
  },
  {
   "cell_type": "code",
   "execution_count": 18,
   "metadata": {},
   "outputs": [
    {
     "name": "stdout",
     "output_type": "stream",
     "text": [
      "56 is even\n"
     ]
    }
   ],
   "source": [
    "number= int(input('Enter a number'))\n",
    "if number%2==0:\n",
    "    print(f'{number} is even')\n",
    "else:\n",
    "    print(f'{number} is odd')"
   ]
  },
  {
   "cell_type": "code",
   "execution_count": 19,
   "metadata": {},
   "outputs": [
    {
     "name": "stdout",
     "output_type": "stream",
     "text": [
      "35 is divisible by 5 and 7 both\n"
     ]
    }
   ],
   "source": [
    "#check if numbr is divisible by 5 and 7\n",
    "\n",
    "number= int(input('Enter a number'))\n",
    "if number%5==0 and number%7==0:\n",
    "    print(f'{number} is divisible by 5 and 7 both')\n",
    "else:\n",
    "    print(file='{number} is not divisible by 5 and 7')"
   ]
  },
  {
   "cell_type": "code",
   "execution_count": null,
   "metadata": {},
   "outputs": [],
   "source": []
  }
 ],
 "metadata": {
  "kernelspec": {
   "display_name": "Python 3.9.12 ('base')",
   "language": "python",
   "name": "python3"
  },
  "language_info": {
   "codemirror_mode": {
    "name": "ipython",
    "version": 3
   },
   "file_extension": ".py",
   "mimetype": "text/x-python",
   "name": "python",
   "nbconvert_exporter": "python",
   "pygments_lexer": "ipython3",
   "version": "3.9.12"
  },
  "orig_nbformat": 4,
  "vscode": {
   "interpreter": {
    "hash": "7de5b7fefd0d54e4b21a2471c2b1e4696d2540c7e9806aa7fade56a4d1da09eb"
   }
  }
 },
 "nbformat": 4,
 "nbformat_minor": 2
}
