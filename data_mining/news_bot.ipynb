{
 "cells": [
  {
   "cell_type": "code",
   "execution_count": 7,
   "metadata": {},
   "outputs": [],
   "source": [
    "import requests\n",
    "from bs4 import BeautifulSoup\n"
   ]
  },
  {
   "cell_type": "code",
   "execution_count": 8,
   "metadata": {},
   "outputs": [
    {
     "name": "stdout",
     "output_type": "stream",
     "text": [
      "status 200\n"
     ]
    }
   ],
   "source": [
    "url = 'https://www.bbc.com/news/world'\n",
    "page = requests.get(url)\n",
    "print('status', page.status_code)"
   ]
  },
  {
   "cell_type": "code",
   "execution_count": 9,
   "metadata": {},
   "outputs": [],
   "source": [
    "soup = BeautifulSoup(page.text)"
   ]
  },
  {
   "cell_type": "code",
   "execution_count": 10,
   "metadata": {},
   "outputs": [
    {
     "data": {
      "text/plain": [
       "'Kherson biggest Russian loss since Kyiv'"
      ]
     },
     "execution_count": 10,
     "metadata": {},
     "output_type": "execute_result"
    }
   ],
   "source": [
    "headings =soup.find_all('h3')\n",
    "headings[2].text"
   ]
  },
  {
   "cell_type": "code",
   "execution_count": 11,
   "metadata": {},
   "outputs": [
    {
     "name": "stdout",
     "output_type": "stream",
     "text": [
      "Celebrations in Kherson as Ukraine recaptures key city\n",
      "Celebrations in Kherson as Ukraine recaptures key city\n",
      "Kherson biggest Russian loss since Kyiv\n",
      "China eases some Covid curbs despite rising cases\n",
      "Officer in Halloween crush police probe found dead\n",
      "Belgium stabbing suspect 'on extremist watch list'\n",
      "Twitter boss Elon Musk told he's 'not above the law'\n",
      "Palestinian mayor backtracks over dead dog bounty\n",
      "Celebrations in Kherson as Ukraine recaptures key city\n",
      "Kherson biggest Russian loss since Kyiv\n",
      "China eases some Covid curbs despite rising cases\n",
      "Officer in Halloween crush police probe found dead\n",
      "Belgium stabbing suspect 'on extremist watch list'\n",
      "Twitter boss Elon Musk told he's 'not above the law'\n",
      "Palestinian mayor backtracks over dead dog bounty\n",
      "Kherson biggest Russian loss since Kyiv\n",
      "China eases some Covid curbs despite rising cases\n",
      "Officer in Halloween crush police probe found dead\n",
      "Belgium stabbing suspect 'on extremist watch list'\n",
      "Twitter boss Elon Musk told he's 'not above the law'\n",
      "Palestinian mayor backtracks over dead dog bounty\n",
      "Trump tears into rising Republican rival DeSantis\n",
      "Italy defiant over migrants row with France\n",
      "Noose found at Obama Center construction site\n",
      "Crypto firm FTX collapses into bankruptcy\n",
      "Ukraine: We will not negotiate with war criminals\n",
      "Putin can’t escape fallout from Russia's Ukraine retreat\n",
      "The US wants to play in China's backyard\n",
      "Will election-denier Kari Lake become Arizona's governor?\n",
      "Africa's top shots: Bullseye, birds and ballet\n",
      "Alternative reality - searching the web in Russia\n",
      "Divers discover Challenger space shuttle debris\n",
      "Blind boy translates World Cup stickers into braille\n",
      "Hurricane Nicole makes landfall in Florida\n",
      "Moment UN chief realises he's reading the wrong speech\n",
      "In the epicentre of Uganda's Ebola outbreak\n",
      "British embassy guard admits spying for Russia\n",
      "Trump tears into rising Republican rival DeSantis\n",
      "Nigeria's electoral commission warns of violence\n",
      "Midterms results in maps and charts\n",
      "Man given death sentence to return to Ukraine\n",
      "Biden student debt plan struck down by Texas court\n",
      "Putin can’t escape fallout from Russia's Ukraine retreat\n",
      "Chad sacks top brass after bloody protest crackdown\n",
      "UK relations have improved significantly - Irish PM\n",
      "Kherson biggest Russian loss since Kyiv\n",
      "School lessons suspended for World Cup match\n",
      "Noose found at Obama Center construction site\n",
      "Is Charlene Ruto Kenya’s answer to Ivanka Trump?\n",
      "Tea company driver 'tried to run over' farm worker\n",
      "Italy defiant over migrants row with France\n",
      "What do young Egyptians want from COP27?\n",
      "Homes for Ukraine payments increased for hosts\n",
      "Wales honours the fallen on 104th Armistice Day\n",
      "Ukraine winning 'another important victory'\n",
      "Belgium stabbing suspect 'on extremist watch list'\n",
      "The source of half the world's lithium\n",
      "The non-verbal rules for digital life\n",
      "The clever homes hidden from pirates\n",
      "The bizarre show that took over TV\n",
      "The doctors prescribing 'blue' therapy\n",
      "The exes trapped in shared homes\n",
      "A 70-mile drive through remote England\n",
      "News daily newsletter\n",
      "Mobile app\n",
      "Get in touch\n"
     ]
    }
   ],
   "source": [
    "for heading in headings:\n",
    "    print(heading.text)"
   ]
  },
  {
   "cell_type": "markdown",
   "metadata": {},
   "source": [
    "News bot for headline extraction"
   ]
  },
  {
   "cell_type": "code",
   "execution_count": 12,
   "metadata": {},
   "outputs": [],
   "source": [
    "#function to get the news page from the web url s soup object\n",
    "def get(url):\n",
    "    page = requests.get(url)\n",
    "    if page.status_code == 200:\n",
    "        return BeautifulSoup(page.text)\n",
    "    else:\n",
    "        print('Error: ',page.status_code)\n",
    "        return None"
   ]
  },
  {
   "cell_type": "code",
   "execution_count": 13,
   "metadata": {},
   "outputs": [],
   "source": [
    "url = 'https://www.ndtv.com/latest'\n",
    "soup = get(url)"
   ]
  },
  {
   "cell_type": "code",
   "execution_count": 14,
   "metadata": {},
   "outputs": [
    {
     "name": "stdout",
     "output_type": "stream",
     "text": [
      "target found\n"
     ]
    }
   ],
   "source": [
    "# 1. get the targeted section \n",
    "target = soup.find('div', class_= 'lisingNews')\n",
    "if target is not None:\n",
    "    print('target found')\n",
    "else:\n",
    "    print('target not found')"
   ]
  },
  {
   "cell_type": "code",
   "execution_count": 15,
   "metadata": {},
   "outputs": [
    {
     "name": "stdout",
     "output_type": "stream",
     "text": [
      "total news :  17\n"
     ]
    }
   ],
   "source": [
    "# 2. get all the news headlines from the targeted section\n",
    "news = target.find_all('div' ,  class_= 'news_Itm')\n",
    "print('total news : ',len(news))"
   ]
  },
  {
   "cell_type": "code",
   "execution_count": 16,
   "metadata": {},
   "outputs": [
    {
     "name": "stdout",
     "output_type": "stream",
     "text": [
      "Surgeons In France Successfully Transplant Nose Grown On Woman's Arm To Her Face\n",
      "\t\t\t\t\t\t\t\t\t\t\t\t\t\t\tEdited by Bhavya Sukheja  | Friday November 11, 2022                                                        \n",
      "                                                        Surgeons in France have successfully grown a nose on a woman's arm and transplanted it on her face after she lost a large portion of her own during cancer treatment.\n"
     ]
    }
   ],
   "source": [
    "#3. extract the news headline and news link from the news\n",
    "for n in news:\n",
    "    print(n.text)\n",
    "    break\n",
    "\n",
    "\n"
   ]
  },
  {
   "cell_type": "code",
   "execution_count": null,
   "metadata": {},
   "outputs": [],
   "source": []
  }
 ],
 "metadata": {
  "kernelspec": {
   "display_name": "Python 3.9.12 ('base')",
   "language": "python",
   "name": "python3"
  },
  "language_info": {
   "codemirror_mode": {
    "name": "ipython",
    "version": 3
   },
   "file_extension": ".py",
   "mimetype": "text/x-python",
   "name": "python",
   "nbconvert_exporter": "python",
   "pygments_lexer": "ipython3",
   "version": "3.9.12"
  },
  "orig_nbformat": 4,
  "vscode": {
   "interpreter": {
    "hash": "8c81b8bb464934e8a8c5bf19021b42779812100c5cd134faff9c48de62c18ad6"
   }
  }
 },
 "nbformat": 4,
 "nbformat_minor": 2
}
